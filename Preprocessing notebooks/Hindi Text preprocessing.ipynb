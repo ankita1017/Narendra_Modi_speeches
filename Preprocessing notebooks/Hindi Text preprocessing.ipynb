{
 "cells": [
  {
   "cell_type": "code",
   "execution_count": 16,
   "metadata": {
    "collapsed": true
   },
   "outputs": [],
   "source": [
    "# Reading all lines of text file into single variable\n",
    "with open('narendra_modi_hindi.txt','r') as myfile:\n",
    "    data = myfile.readlines()"
   ]
  },
  {
   "cell_type": "code",
   "execution_count": 17,
   "metadata": {
    "collapsed": true
   },
   "outputs": [],
   "source": [
    "# Currently the data variable consists of a list with each element being one line of the file.\n",
    "# We combine all the elements i.e. all lines in the file into a single string\n",
    "data = ''.join(data)"
   ]
  },
  {
   "cell_type": "code",
   "execution_count": 18,
   "metadata": {
    "collapsed": true
   },
   "outputs": [],
   "source": [
    "# Every new speech starts after the ==========\\n keyword. So we split the string along this keyword\n",
    "# This provides us with a list with every speech being one element of the list\n",
    "data = data.split('==========\\n')"
   ]
  },
  {
   "cell_type": "code",
   "execution_count": 19,
   "metadata": {
    "collapsed": true
   },
   "outputs": [],
   "source": [
    "# Removing the \\u200d character present in case of joint letters\n",
    "data = [x.replace(\"\\u200d\",\"\") for x in data]"
   ]
  },
  {
   "cell_type": "code",
   "execution_count": 20,
   "metadata": {
    "collapsed": true
   },
   "outputs": [],
   "source": [
    "# We will do basic preprocessing of each speech and after that store them in a new list\n",
    "speeches = []"
   ]
  },
  {
   "cell_type": "code",
   "execution_count": 21,
   "metadata": {
    "collapsed": true
   },
   "outputs": [],
   "source": [
    "# Removing the \\n\\n, storing title of speech in another list and then joining back the list\n",
    "titles = []\n",
    "for speech in data:\n",
    "    speech = speech.split('\\n\\n')\n",
    "    titles.append(speech[0])    \n",
    "    speech.remove(speech[0])\n",
    "    speech = '\\n '.join(speech)\n",
    "    speeches.append(speech)"
   ]
  },
  {
   "cell_type": "code",
   "execution_count": 22,
   "metadata": {
    "collapsed": true
   },
   "outputs": [],
   "source": [
    "# Commas and full stops are placed right next to any word. As a result during tokenizing, it'll\n",
    "# assume for eg: \"India.\" to be a word. Rather we want it to understand \"India\" and \".\" as two\n",
    "# different entities. So we insert an extra space before question marks and commas so that it considers\n",
    "# these two punctuation symbols as separate entities from the word\n",
    "speeches = [speech.replace(\",\",\" ,\") for speech in speeches]\n",
    "speeches = [speech.replace(\"।\",\" ।\") for speech in speeches]"
   ]
  },
  {
   "cell_type": "code",
   "execution_count": 23,
   "metadata": {},
   "outputs": [
    {
     "data": {
      "text/plain": [
       "'Independence Day speech 2019'"
      ]
     },
     "execution_count": 23,
     "metadata": {},
     "output_type": "execute_result"
    }
   ],
   "source": [
    "# A sample title\n",
    "titles[0]"
   ]
  },
  {
   "cell_type": "code",
   "execution_count": 24,
   "metadata": {
    "collapsed": true
   },
   "outputs": [],
   "source": [
    "# Removing \\n\n",
    "speeches = [speech.replace(\"\\n\",\" \\n \") for speech in speeches]"
   ]
  },
  {
   "cell_type": "code",
   "execution_count": 25,
   "metadata": {
    "collapsed": true
   },
   "outputs": [],
   "source": [
    "# What was observed is many times there is no space between any English word and immediate next Hindi word.\n",
    "# Same holds true for some punctuation marks. So we ensure spaces ec-zist in such cases\n",
    "import re\n",
    "fin_speeches = [re.sub(r\"(?<=[A-Za-z])(?=[^\\sA-Za-z])\", r\" \", stmt).strip() for stmt in speeches]\n",
    "fin_speeches = [speech.replace(\"?\",\" ? \") for speech in fin_speeches]\n",
    "fin_speeches = [speech.replace(\"!\",\" ! \") for speech in fin_speeches]\n",
    "fin_speeches = [speech.replace(\"।\",\" । \") for speech in fin_speeches]\n",
    "fin_speeches = [speech.replace(\";\",\" ; \") for speech in fin_speeches]"
   ]
  },
  {
   "cell_type": "code",
   "execution_count": 26,
   "metadata": {
    "collapsed": true
   },
   "outputs": [],
   "source": [
    "# Removing extra white spaces which might have possibly risen due to regex in between\n",
    "fin_speeches = [' '.join(speech.split()) for speech in fin_speeches]"
   ]
  },
  {
   "cell_type": "code",
   "execution_count": 27,
   "metadata": {
    "collapsed": true
   },
   "outputs": [],
   "source": [
    "import pandas as pd"
   ]
  },
  {
   "cell_type": "code",
   "execution_count": 28,
   "metadata": {},
   "outputs": [
    {
     "data": {
      "text/html": [
       "<div>\n",
       "<style>\n",
       "    .dataframe thead tr:only-child th {\n",
       "        text-align: right;\n",
       "    }\n",
       "\n",
       "    .dataframe thead th {\n",
       "        text-align: left;\n",
       "    }\n",
       "\n",
       "    .dataframe tbody tr th {\n",
       "        vertical-align: top;\n",
       "    }\n",
       "</style>\n",
       "<table border=\"1\" class=\"dataframe\">\n",
       "  <thead>\n",
       "    <tr style=\"text-align: right;\">\n",
       "      <th></th>\n",
       "      <th>title</th>\n",
       "    </tr>\n",
       "  </thead>\n",
       "  <tbody>\n",
       "    <tr>\n",
       "      <th>0</th>\n",
       "      <td>Independence Day speech 2019</td>\n",
       "    </tr>\n",
       "    <tr>\n",
       "      <th>1</th>\n",
       "      <td>Article 370</td>\n",
       "    </tr>\n",
       "    <tr>\n",
       "      <th>2</th>\n",
       "      <td>Kargil commemoration</td>\n",
       "    </tr>\n",
       "    <tr>\n",
       "      <th>3</th>\n",
       "      <td>Book release on former PM</td>\n",
       "    </tr>\n",
       "    <tr>\n",
       "      <th>4</th>\n",
       "      <td>Address to party workers in Uttar Pradesh</td>\n",
       "    </tr>\n",
       "  </tbody>\n",
       "</table>\n",
       "</div>"
      ],
      "text/plain": [
       "                                       title\n",
       "0               Independence Day speech 2019\n",
       "1                                Article 370\n",
       "2                       Kargil commemoration\n",
       "3                  Book release on former PM\n",
       "4  Address to party workers in Uttar Pradesh"
      ]
     },
     "execution_count": 28,
     "metadata": {},
     "output_type": "execute_result"
    }
   ],
   "source": [
    "# Storing titles and speech in a CSV file\n",
    "df = pd.DataFrame()\n",
    "df['title'] = titles\n",
    "df.head()"
   ]
  },
  {
   "cell_type": "code",
   "execution_count": 29,
   "metadata": {},
   "outputs": [
    {
     "data": {
      "text/html": [
       "<div>\n",
       "<style>\n",
       "    .dataframe thead tr:only-child th {\n",
       "        text-align: right;\n",
       "    }\n",
       "\n",
       "    .dataframe thead th {\n",
       "        text-align: left;\n",
       "    }\n",
       "\n",
       "    .dataframe tbody tr th {\n",
       "        vertical-align: top;\n",
       "    }\n",
       "</style>\n",
       "<table border=\"1\" class=\"dataframe\">\n",
       "  <thead>\n",
       "    <tr style=\"text-align: right;\">\n",
       "      <th></th>\n",
       "      <th>title</th>\n",
       "      <th>speech</th>\n",
       "    </tr>\n",
       "  </thead>\n",
       "  <tbody>\n",
       "    <tr>\n",
       "      <th>0</th>\n",
       "      <td>Independence Day speech 2019</td>\n",
       "      <td>मेरे प्यारे देशवासियो , स्वतंत्रता के इस पवित्...</td>\n",
       "    </tr>\n",
       "    <tr>\n",
       "      <th>1</th>\n",
       "      <td>Article 370</td>\n",
       "      <td>मेरे प्यारे देशवासियों , एक राष्ट्र के तौर पर ...</td>\n",
       "    </tr>\n",
       "    <tr>\n",
       "      <th>2</th>\n",
       "      <td>Kargil commemoration</td>\n",
       "      <td>रक्षामंत्री , श्रीमान राजनाथ सिंह जी ; राज्य र...</td>\n",
       "    </tr>\n",
       "    <tr>\n",
       "      <th>3</th>\n",
       "      <td>Book release on former PM</td>\n",
       "      <td>आदरणीय उप-राष्ट्रपति जी , लोकसभा के स्पीकर श्र...</td>\n",
       "    </tr>\n",
       "    <tr>\n",
       "      <th>4</th>\n",
       "      <td>Address to party workers in Uttar Pradesh</td>\n",
       "      <td>हर-हर महादेव । भारतीय जनता पार्टी के कार्यकारी...</td>\n",
       "    </tr>\n",
       "  </tbody>\n",
       "</table>\n",
       "</div>"
      ],
      "text/plain": [
       "                                       title  \\\n",
       "0               Independence Day speech 2019   \n",
       "1                                Article 370   \n",
       "2                       Kargil commemoration   \n",
       "3                  Book release on former PM   \n",
       "4  Address to party workers in Uttar Pradesh   \n",
       "\n",
       "                                              speech  \n",
       "0  मेरे प्यारे देशवासियो , स्वतंत्रता के इस पवित्...  \n",
       "1  मेरे प्यारे देशवासियों , एक राष्ट्र के तौर पर ...  \n",
       "2  रक्षामंत्री , श्रीमान राजनाथ सिंह जी ; राज्य र...  \n",
       "3  आदरणीय उप-राष्ट्रपति जी , लोकसभा के स्पीकर श्र...  \n",
       "4  हर-हर महादेव । भारतीय जनता पार्टी के कार्यकारी...  "
      ]
     },
     "execution_count": 29,
     "metadata": {},
     "output_type": "execute_result"
    }
   ],
   "source": [
    "df['speech'] = fin_speeches\n",
    "df.head()"
   ]
  },
  {
   "cell_type": "code",
   "execution_count": 30,
   "metadata": {
    "collapsed": true
   },
   "outputs": [],
   "source": [
    "df.to_csv('modi_hindi_speech.csv',index=None)"
   ]
  },
  {
   "cell_type": "code",
   "execution_count": 31,
   "metadata": {
    "collapsed": true
   },
   "outputs": [],
   "source": [
    "with open('modi_hindi_speech.txt',\"w\") as w:\n",
    "    w.write('\\n#DELIMITER#\\n'.join(fin_speeches))"
   ]
  },
  {
   "cell_type": "code",
   "execution_count": null,
   "metadata": {
    "collapsed": true
   },
   "outputs": [],
   "source": []
  }
 ],
 "metadata": {
  "kernelspec": {
   "display_name": "Python 3",
   "language": "python",
   "name": "python3"
  },
  "language_info": {
   "codemirror_mode": {
    "name": "ipython",
    "version": 3
   },
   "file_extension": ".py",
   "mimetype": "text/x-python",
   "name": "python",
   "nbconvert_exporter": "python",
   "pygments_lexer": "ipython3",
   "version": "3.6.3"
  }
 },
 "nbformat": 4,
 "nbformat_minor": 2
}
