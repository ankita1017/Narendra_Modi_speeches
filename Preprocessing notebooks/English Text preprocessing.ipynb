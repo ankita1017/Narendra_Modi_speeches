{
 "cells": [
  {
   "cell_type": "code",
   "execution_count": 1,
   "metadata": {
    "collapsed": true
   },
   "outputs": [],
   "source": [
    "# Reading all lines of text file into single variable\n",
    "with open('english_speeches_date_place_title_text.txt','r') as myfile:\n",
    "    data = myfile.readlines()"
   ]
  },
  {
   "cell_type": "code",
   "execution_count": 2,
   "metadata": {
    "collapsed": true
   },
   "outputs": [],
   "source": [
    "# Currently the data variable consists of a list with each element being one line of the file.\n",
    "# We combine all the elements i.e. all lines in the file into a single string\n",
    "data = ''.join(data)"
   ]
  },
  {
   "cell_type": "code",
   "execution_count": 3,
   "metadata": {
    "collapsed": true
   },
   "outputs": [],
   "source": [
    "# Every new speech starts after the #DELIMITER# keyword. So we split the string along this keyword\n",
    "# This provides us with a list with every speech being one element of the list\n",
    "data = data.split('#DELIMITER#\\n')"
   ]
  },
  {
   "cell_type": "code",
   "execution_count": 4,
   "metadata": {
    "collapsed": true
   },
   "outputs": [],
   "source": [
    "# We will do basic preprocessing of each speech and after that store them in a new list\n",
    "speeches = []"
   ]
  },
  {
   "cell_type": "code",
   "execution_count": 5,
   "metadata": {
    "collapsed": true
   },
   "outputs": [],
   "source": [
    "# \\n character has been automatically appended wherever there was a new line.\n",
    "# So for each speech we will first split it along this char. The first two lines of each speech have been\n",
    "# the date and occasion where the speech was given. We remove both of these lines as our focus right now\n",
    "# is only on the speech content. Also, we store titles into one list. Once done we then recombine all lines into a single string and add this\n",
    "# to our speeches list. Then adding this one speech to our list\n",
    "titles = []\n",
    "for speech in data:\n",
    "    speech = speech.split('\\n')\n",
    "    speech.remove(speech[0])\n",
    "    titles.append(speech[0])    \n",
    "    speech.remove(speech[0])\n",
    "    speech = '\\n '.join(speech)\n",
    "    speeches.append(speech)"
   ]
  },
  {
   "cell_type": "code",
   "execution_count": 6,
   "metadata": {
    "collapsed": true
   },
   "outputs": [],
   "source": [
    "# Commas and full stops are placed right next to any word. As a result during tokenizing, it'll\n",
    "# assume for eg: \"India.\" to be a word. Rather we want it to understand \"India\" and \".\" as two\n",
    "# different entities. So we insert an extra space before question marks and commas so that it considers\n",
    "# these two punctuation symbols as separate entities from the word\n",
    "speeches = [speech.replace(\",\",\" ,\") for speech in speeches]\n",
    "speeches = [speech.replace(\".\",\" .\") for speech in speeches]"
   ]
  },
  {
   "cell_type": "code",
   "execution_count": 7,
   "metadata": {},
   "outputs": [
    {
     "data": {
      "text/plain": [
       "'Ladies and Gentlemen ,\\n I am delighted that Delhi is hosting the World Diamond Conference . We are especially pleased that President Putin is here with us today .\\n He is a leader of India`s key strategic partner and , personally , a great friend of India . In addition , Russia is the source of more than a quarter of the world`s production of diamonds .\\n I understand that this is the first conference of its kind in the world . This is a source of great pride for us .\\n I want to congratulate and thank Gem and Jewellery Export Promotion Council , the Ministry of Commerce and Industry , and , the World Diamond Mark for organising this event .\\n India is the natural venue for this conference .\\n For one , it is generally believed that diamond is India`s gift to the world . More than two thousand years ago , diamond was deeply valued in India . It was even traded with China over the Silk Route .\\n और अभी पुतिन जी बता रहे थे कि किस प्रकार से भारत का हीरा दुनिया में जगमगा रहा था।\\n It was even traded with China over the Silk Route .\\n Till about the 18th century , India was considered to be the only source of diamond .\\n Till of course , the world began mining for diamond in Africa . I am delighted that South Africa`s Minister for Mineral Resources is with us today . Thank you , I welcome you here .\\n Today , India is the world`s largest centre for cutting and polishing diamond and its largest importer of uncut diamond .\\n Diamond has become a universal symbol of wealth and enduring love . But , in India it is also a great source of jobs for our people . The Gems and Jewellery Sector in India employs nearly 3 .5 million people; 1 million of them work in the diamond industry .\\n यानि अपने आप में Gems and Jewellery जहां पर करीब 35 लाख लोगों को रोजगार मिलता है , और उसमें दस लाख लोग सिर्फ डायमंड के क्षेत्र में काम कर रहे हैं।\\n India today exports cut and polished diamond worth 20 billion US dollars .\\n Surat has emerged as the biggest centre in the world for cutting and polishing diamonds .\\n और इसलिए मैं कभी-कभी कहता हूं जैसे करीब-करीब 30 प्रतिशत डायमंड रशिया देता है और इसलिए मुझे लगता है कि हर डायमंड पर - जब डायमंड यात्रा करता है रशिया से तो हर डायमंड पर रशिया के कदमों के निशान होते हैं। लेकिन जब एक पॉलिश डायमंड निकलता है तो उसके ऊपर इंडिया की उंगली के निशान होते हैं।\\n It hosts enterprises with some of the most advanced technologies and machinery in the world .\\n Although the Bharat Diamond Bourse was established in 2010 , it has become the world`s largest exchange in the world .\\n Few in India would be aware that out of ten polished diamond pieces sold globally , nine have been processed in India .\\n यानि दुनिया का कोई भी व्\\u200dयक्ति अगर हीरे-जवाहरात से सजा हुआ है , तो मान लेना कि दस में से नौ हीरो पर किसी न किसी भारतीय की उंगली लगी हुई है।\\n The diamonds sparkle in the world because of the skills of Indian workers .\\n So , we welcome the efforts of this conference and the World Mark Foundation to increase the global market for diamonds .\\n However , rough diamond in India comes from abroad . And , it mostly comes indirectly through places like Antwerp and Dubai . Of course , Antwerp trade is now run mainly by Indians .\\n While most of rough diamonds from Russia come to India , less than 20% comes directly to India .\\n We have with us today the head of Russian company Alrosa , which controls most of the production and trade in rough diamonds in Russia . It has direct sales contract with 7 to 8 Indian companies .\\n I know that there are representatives of many bourses here . But , I will be honest and say that I want major diamond mining companies to sell directly to the Indian diamond industry . It will be good for them and for India .\\n I have made three proposals to President Putin .\\n First , I would like Alrosa to have direct long term contracts with more Indian companies . I am pleased to know that they are moving in that direction .\\n Second , I want Alrosa and others to trade directly on our bourse . We have decided to create a Special Notified Zone , in which major mining companies can import rough diamonds on a consignment basis and re-export unsold ones . This is going to benefit Indian diamond industry and create more jobs for our youth .\\n Third , I asked President Putin to reform regulations so that Russian jewellery makers can send their rough diamond to India and re-import polished diamond without paying duty .\\n This will give a boost to our diamond industry . These measures will also boost India-Russia economic ties .\\n India and Russia have outstanding cooperation in a broad range of areas . We want to focus on transforming our economic relations . We want to make this a key pillar of our relationship .\\n Our joint partnership - here is an indication of our new approach to expand our economic partnership .\\n President Putin`s enthusiasm for Russian participation in our Make in India programme will help expand manufacturing and create jobs for our people .\\n There are many other sectors in India , like the diamond industry , which have huge potential for creating employment and generating exports . Their modernisation and development is a great priority for my Government .\\n I am deeply encouraged by the level of international participation . In every sector of business , you will find that India not only offers productive business opportunities , but it is also easy to work in . You will find an environment that is welcoming and responsive .\\n Thank you all for coming .\\n '"
      ]
     },
     "execution_count": 7,
     "metadata": {},
     "output_type": "execute_result"
    }
   ],
   "source": [
    "# So this is one speech after all the basic preprocessing.\n",
    "speeches[132]"
   ]
  },
  {
   "cell_type": "code",
   "execution_count": 10,
   "metadata": {},
   "outputs": [
    {
     "data": {
      "text/plain": [
       "'World Diamond Conference, Delhi'"
      ]
     },
     "execution_count": 10,
     "metadata": {},
     "output_type": "execute_result"
    }
   ],
   "source": [
    "# A sample title\n",
    "titles[132]"
   ]
  },
  {
   "cell_type": "code",
   "execution_count": 8,
   "metadata": {
    "collapsed": true
   },
   "outputs": [],
   "source": [
    "# Removing \\n\n",
    "speeches = [speech.replace(\"\\n\",\" \\n \") for speech in speeches]"
   ]
  },
  {
   "cell_type": "code",
   "execution_count": 9,
   "metadata": {
    "collapsed": true
   },
   "outputs": [],
   "source": [
    "# Removing any Non-English content present in the speech\n",
    "import re\n",
    "fin_speeches = [re.sub(r\"[^A-Za-z0-9 ^,!.\\/'+\\-=]\",\"\",stg).strip() for stg in speeches]"
   ]
  },
  {
   "cell_type": "code",
   "execution_count": 10,
   "metadata": {
    "collapsed": true
   },
   "outputs": [],
   "source": [
    "# Removing extra white spaces in between\n",
    "fin_speeches = [' '.join(speech.split()) for speech in fin_speeches]"
   ]
  },
  {
   "cell_type": "code",
   "execution_count": 11,
   "metadata": {
    "collapsed": true
   },
   "outputs": [],
   "source": [
    "import pandas as pd"
   ]
  },
  {
   "cell_type": "code",
   "execution_count": 12,
   "metadata": {},
   "outputs": [
    {
     "data": {
      "text/html": [
       "<div>\n",
       "<style>\n",
       "    .dataframe thead tr:only-child th {\n",
       "        text-align: right;\n",
       "    }\n",
       "\n",
       "    .dataframe thead th {\n",
       "        text-align: left;\n",
       "    }\n",
       "\n",
       "    .dataframe tbody tr th {\n",
       "        vertical-align: top;\n",
       "    }\n",
       "</style>\n",
       "<table border=\"1\" class=\"dataframe\">\n",
       "  <thead>\n",
       "    <tr style=\"text-align: right;\">\n",
       "      <th></th>\n",
       "      <th>title</th>\n",
       "    </tr>\n",
       "  </thead>\n",
       "  <tbody>\n",
       "    <tr>\n",
       "      <th>0</th>\n",
       "      <td>Niti Aayog</td>\n",
       "    </tr>\n",
       "    <tr>\n",
       "      <th>1</th>\n",
       "      <td>South Africa backs India's bid to join Nuclear...</td>\n",
       "    </tr>\n",
       "    <tr>\n",
       "      <th>2</th>\n",
       "      <td>Banquet speech by Prime Minister during his vi...</td>\n",
       "    </tr>\n",
       "    <tr>\n",
       "      <th>3</th>\n",
       "      <td>Mann Ki Baat</td>\n",
       "    </tr>\n",
       "    <tr>\n",
       "      <th>4</th>\n",
       "      <td>Afghanistan visit</td>\n",
       "    </tr>\n",
       "  </tbody>\n",
       "</table>\n",
       "</div>"
      ],
      "text/plain": [
       "                                               title\n",
       "0                                         Niti Aayog\n",
       "1  South Africa backs India's bid to join Nuclear...\n",
       "2  Banquet speech by Prime Minister during his vi...\n",
       "3                                       Mann Ki Baat\n",
       "4                                  Afghanistan visit"
      ]
     },
     "execution_count": 12,
     "metadata": {},
     "output_type": "execute_result"
    }
   ],
   "source": [
    "# Storing titles and speech in a CSV file\n",
    "df = pd.DataFrame()\n",
    "df['title'] = titles\n",
    "df.head()"
   ]
  },
  {
   "cell_type": "code",
   "execution_count": 13,
   "metadata": {},
   "outputs": [
    {
     "data": {
      "text/html": [
       "<div>\n",
       "<style>\n",
       "    .dataframe thead tr:only-child th {\n",
       "        text-align: right;\n",
       "    }\n",
       "\n",
       "    .dataframe thead th {\n",
       "        text-align: left;\n",
       "    }\n",
       "\n",
       "    .dataframe tbody tr th {\n",
       "        vertical-align: top;\n",
       "    }\n",
       "</style>\n",
       "<table border=\"1\" class=\"dataframe\">\n",
       "  <thead>\n",
       "    <tr style=\"text-align: right;\">\n",
       "      <th></th>\n",
       "      <th>title</th>\n",
       "      <th>speech</th>\n",
       "    </tr>\n",
       "  </thead>\n",
       "  <tbody>\n",
       "    <tr>\n",
       "      <th>0</th>\n",
       "      <td>Niti Aayog</td>\n",
       "      <td>There was a time when development was believed...</td>\n",
       "    </tr>\n",
       "    <tr>\n",
       "      <th>1</th>\n",
       "      <td>South Africa backs India's bid to join Nuclear...</td>\n",
       "      <td>His Excellency President of the Republic of So...</td>\n",
       "    </tr>\n",
       "    <tr>\n",
       "      <th>2</th>\n",
       "      <td>Banquet speech by Prime Minister during his vi...</td>\n",
       "      <td>Your Excellency , President Filipe Nyusi Ladie...</td>\n",
       "    </tr>\n",
       "    <tr>\n",
       "      <th>3</th>\n",
       "      <td>Mann Ki Baat</td>\n",
       "      <td>My dear countrymen , my greetings namaskar to ...</td>\n",
       "    </tr>\n",
       "    <tr>\n",
       "      <th>4</th>\n",
       "      <td>Afghanistan visit</td>\n",
       "      <td>H .E . President Mohammad Ashraf Ghani Foreign...</td>\n",
       "    </tr>\n",
       "  </tbody>\n",
       "</table>\n",
       "</div>"
      ],
      "text/plain": [
       "                                               title  \\\n",
       "0                                         Niti Aayog   \n",
       "1  South Africa backs India's bid to join Nuclear...   \n",
       "2  Banquet speech by Prime Minister during his vi...   \n",
       "3                                       Mann Ki Baat   \n",
       "4                                  Afghanistan visit   \n",
       "\n",
       "                                              speech  \n",
       "0  There was a time when development was believed...  \n",
       "1  His Excellency President of the Republic of So...  \n",
       "2  Your Excellency , President Filipe Nyusi Ladie...  \n",
       "3  My dear countrymen , my greetings namaskar to ...  \n",
       "4  H .E . President Mohammad Ashraf Ghani Foreign...  "
      ]
     },
     "execution_count": 13,
     "metadata": {},
     "output_type": "execute_result"
    }
   ],
   "source": [
    "df['speech'] = fin_speeches\n",
    "df.head()"
   ]
  },
  {
   "cell_type": "code",
   "execution_count": 14,
   "metadata": {
    "collapsed": true
   },
   "outputs": [],
   "source": [
    "df.to_csv('modi_english_speech.csv',index=None)"
   ]
  },
  {
   "cell_type": "code",
   "execution_count": 16,
   "metadata": {
    "collapsed": true
   },
   "outputs": [],
   "source": [
    "with open('modi_english_speech.txt','w') as w:\n",
    "    w.write(('\\n#DELIMITER#\\n').join(fin_speeches))"
   ]
  },
  {
   "cell_type": "code",
   "execution_count": null,
   "metadata": {
    "collapsed": true
   },
   "outputs": [],
   "source": []
  }
 ],
 "metadata": {
  "kernelspec": {
   "display_name": "Python 3",
   "language": "python",
   "name": "python3"
  },
  "language_info": {
   "codemirror_mode": {
    "name": "ipython",
    "version": 3
   },
   "file_extension": ".py",
   "mimetype": "text/x-python",
   "name": "python",
   "nbconvert_exporter": "python",
   "pygments_lexer": "ipython3",
   "version": "3.6.3"
  }
 },
 "nbformat": 4,
 "nbformat_minor": 2
}
