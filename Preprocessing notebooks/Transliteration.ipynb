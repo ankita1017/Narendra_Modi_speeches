{
 "cells": [
  {
   "cell_type": "code",
   "execution_count": 1,
   "metadata": {
    "collapsed": true
   },
   "outputs": [],
   "source": [
    "from indic_transliteration import sanscript"
   ]
  },
  {
   "cell_type": "code",
   "execution_count": 2,
   "metadata": {
    "collapsed": true
   },
   "outputs": [],
   "source": [
    "import pandas as pd"
   ]
  },
  {
   "cell_type": "code",
   "execution_count": 15,
   "metadata": {},
   "outputs": [
    {
     "data": {
      "text/html": [
       "<div>\n",
       "<style>\n",
       "    .dataframe thead tr:only-child th {\n",
       "        text-align: right;\n",
       "    }\n",
       "\n",
       "    .dataframe thead th {\n",
       "        text-align: left;\n",
       "    }\n",
       "\n",
       "    .dataframe tbody tr th {\n",
       "        vertical-align: top;\n",
       "    }\n",
       "</style>\n",
       "<table border=\"1\" class=\"dataframe\">\n",
       "  <thead>\n",
       "    <tr style=\"text-align: right;\">\n",
       "      <th></th>\n",
       "      <th>title</th>\n",
       "      <th>speech</th>\n",
       "    </tr>\n",
       "  </thead>\n",
       "  <tbody>\n",
       "    <tr>\n",
       "      <th>0</th>\n",
       "      <td>Independence Day speech 2019</td>\n",
       "      <td>मेरे प्यारे देशवासियो , स्वतंत्रता के इस पवित्...</td>\n",
       "    </tr>\n",
       "    <tr>\n",
       "      <th>1</th>\n",
       "      <td>Article 370</td>\n",
       "      <td>मेरे प्यारे देशवासियों , एक राष्ट्र के तौर पर ...</td>\n",
       "    </tr>\n",
       "    <tr>\n",
       "      <th>2</th>\n",
       "      <td>Kargil commemoration</td>\n",
       "      <td>रक्षामंत्री , श्रीमान राजनाथ सिंह जी ; राज्य र...</td>\n",
       "    </tr>\n",
       "    <tr>\n",
       "      <th>3</th>\n",
       "      <td>Book release on former PM</td>\n",
       "      <td>आदरणीय उप-राष्ट्रपति जी , लोकसभा के स्पीकर श्र...</td>\n",
       "    </tr>\n",
       "    <tr>\n",
       "      <th>4</th>\n",
       "      <td>Address to party workers in Uttar Pradesh</td>\n",
       "      <td>हर-हर महादेव । भारतीय जनता पार्टी के कार्यकारी...</td>\n",
       "    </tr>\n",
       "  </tbody>\n",
       "</table>\n",
       "</div>"
      ],
      "text/plain": [
       "                                       title  \\\n",
       "0               Independence Day speech 2019   \n",
       "1                                Article 370   \n",
       "2                       Kargil commemoration   \n",
       "3                  Book release on former PM   \n",
       "4  Address to party workers in Uttar Pradesh   \n",
       "\n",
       "                                              speech  \n",
       "0  मेरे प्यारे देशवासियो , स्वतंत्रता के इस पवित्...  \n",
       "1  मेरे प्यारे देशवासियों , एक राष्ट्र के तौर पर ...  \n",
       "2  रक्षामंत्री , श्रीमान राजनाथ सिंह जी ; राज्य र...  \n",
       "3  आदरणीय उप-राष्ट्रपति जी , लोकसभा के स्पीकर श्र...  \n",
       "4  हर-हर महादेव । भारतीय जनता पार्टी के कार्यकारी...  "
      ]
     },
     "execution_count": 15,
     "metadata": {},
     "output_type": "execute_result"
    }
   ],
   "source": [
    "df = pd.read_csv('modi_hindi_speech.csv')\n",
    "df.head()"
   ]
  },
  {
   "cell_type": "code",
   "execution_count": 16,
   "metadata": {
    "collapsed": true
   },
   "outputs": [],
   "source": [
    "df = df.drop(df.index[50])"
   ]
  },
  {
   "cell_type": "code",
   "execution_count": 17,
   "metadata": {},
   "outputs": [
    {
     "data": {
      "text/plain": [
       "50"
      ]
     },
     "execution_count": 17,
     "metadata": {},
     "output_type": "execute_result"
    }
   ],
   "source": [
    "speeches = df['speech']\n",
    "speeches.size"
   ]
  },
  {
   "cell_type": "code",
   "execution_count": 18,
   "metadata": {},
   "outputs": [],
   "source": [
    "fin_speeches = []\n",
    "for speech in speeches:\n",
    "    trans_speech = sanscript.transliterate(speech,sanscript.DEVANAGARI,sanscript.IAST)\n",
    "    fin_speeches.append(trans_speech)"
   ]
  },
  {
   "cell_type": "code",
   "execution_count": 19,
   "metadata": {
    "collapsed": true
   },
   "outputs": [],
   "source": [
    "import re"
   ]
  },
  {
   "cell_type": "code",
   "execution_count": 20,
   "metadata": {
    "collapsed": true
   },
   "outputs": [],
   "source": [
    "fin_speeches = [text.replace(\"oṃ\",\"o\") for text in fin_speeches]"
   ]
  },
  {
   "cell_type": "code",
   "execution_count": 21,
   "metadata": {},
   "outputs": [
    {
     "data": {
      "text/html": [
       "<div>\n",
       "<style>\n",
       "    .dataframe thead tr:only-child th {\n",
       "        text-align: right;\n",
       "    }\n",
       "\n",
       "    .dataframe thead th {\n",
       "        text-align: left;\n",
       "    }\n",
       "\n",
       "    .dataframe tbody tr th {\n",
       "        vertical-align: top;\n",
       "    }\n",
       "</style>\n",
       "<table border=\"1\" class=\"dataframe\">\n",
       "  <thead>\n",
       "    <tr style=\"text-align: right;\">\n",
       "      <th></th>\n",
       "      <th>title</th>\n",
       "      <th>speech</th>\n",
       "    </tr>\n",
       "  </thead>\n",
       "  <tbody>\n",
       "    <tr>\n",
       "      <th>0</th>\n",
       "      <td>Independence Day speech 2019</td>\n",
       "      <td>mere pyāre deśavāsiyo , svataṃtratā ke isa pav...</td>\n",
       "    </tr>\n",
       "    <tr>\n",
       "      <th>1</th>\n",
       "      <td>Article 370</td>\n",
       "      <td>mere pyāre deśavāsiyo , eka rāṣṭra ke taura pa...</td>\n",
       "    </tr>\n",
       "    <tr>\n",
       "      <th>2</th>\n",
       "      <td>Kargil commemoration</td>\n",
       "      <td>rakṣāmaṃtrī , śrīmāna rājanātha siṃha jī ; rāj...</td>\n",
       "    </tr>\n",
       "    <tr>\n",
       "      <th>3</th>\n",
       "      <td>Book release on former PM</td>\n",
       "      <td>ādaraṇīya upa-rāṣṭrapati jī , lokasabhā ke spī...</td>\n",
       "    </tr>\n",
       "    <tr>\n",
       "      <th>4</th>\n",
       "      <td>Address to party workers in Uttar Pradesh</td>\n",
       "      <td>hara-hara mahādeva । bhāratīya janatā pārṭī ke...</td>\n",
       "    </tr>\n",
       "  </tbody>\n",
       "</table>\n",
       "</div>"
      ],
      "text/plain": [
       "                                       title  \\\n",
       "0               Independence Day speech 2019   \n",
       "1                                Article 370   \n",
       "2                       Kargil commemoration   \n",
       "3                  Book release on former PM   \n",
       "4  Address to party workers in Uttar Pradesh   \n",
       "\n",
       "                                              speech  \n",
       "0  mere pyāre deśavāsiyo , svataṃtratā ke isa pav...  \n",
       "1  mere pyāre deśavāsiyo , eka rāṣṭra ke taura pa...  \n",
       "2  rakṣāmaṃtrī , śrīmāna rājanātha siṃha jī ; rāj...  \n",
       "3  ādaraṇīya upa-rāṣṭrapati jī , lokasabhā ke spī...  \n",
       "4  hara-hara mahādeva । bhāratīya janatā pārṭī ke...  "
      ]
     },
     "execution_count": 21,
     "metadata": {},
     "output_type": "execute_result"
    }
   ],
   "source": [
    "df['speech'] = fin_speeches\n",
    "df.head()"
   ]
  },
  {
   "cell_type": "code",
   "execution_count": 28,
   "metadata": {
    "collapsed": true
   },
   "outputs": [],
   "source": [
    "df.to_csv('modi_hindi_transliterated_speech.csv',index=None)"
   ]
  },
  {
   "cell_type": "code",
   "execution_count": 22,
   "metadata": {
    "collapsed": true
   },
   "outputs": [],
   "source": [
    "with open('modi_hindi_transliterated_speech.txt','w') as w:\n",
    "    w.write(('\\n#DELIMITER#\\n').join(fin_speeches))"
   ]
  },
  {
   "cell_type": "code",
   "execution_count": null,
   "metadata": {
    "collapsed": true
   },
   "outputs": [],
   "source": []
  }
 ],
 "metadata": {
  "kernelspec": {
   "display_name": "Python 3",
   "language": "python",
   "name": "python3"
  },
  "language_info": {
   "codemirror_mode": {
    "name": "ipython",
    "version": 3
   },
   "file_extension": ".py",
   "mimetype": "text/x-python",
   "name": "python",
   "nbconvert_exporter": "python",
   "pygments_lexer": "ipython3",
   "version": "3.6.3"
  }
 },
 "nbformat": 4,
 "nbformat_minor": 2
}
